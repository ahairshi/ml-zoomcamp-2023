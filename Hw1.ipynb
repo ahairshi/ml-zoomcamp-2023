{
  "nbformat": 4,
  "nbformat_minor": 0,
  "metadata": {
    "colab": {
      "provenance": [],
      "authorship_tag": "ABX9TyNTrfCZdkYrBq4Bz6DMa/bm",
      "include_colab_link": true
    },
    "kernelspec": {
      "name": "python3",
      "display_name": "Python 3"
    },
    "language_info": {
      "name": "python"
    }
  },
  "cells": [
    {
      "cell_type": "markdown",
      "metadata": {
        "id": "view-in-github",
        "colab_type": "text"
      },
      "source": [
        "<a href=\"https://colab.research.google.com/github/ahairshi/ml-zoomcamp-2023/blob/main/Hw1.ipynb\" target=\"_parent\"><img src=\"https://colab.research.google.com/assets/colab-badge.svg\" alt=\"Open In Colab\"/></a>"
      ]
    },
    {
      "cell_type": "markdown",
      "source": [
        "## Homework\n",
        "\n",
        "### Set up the environment\n",
        "\n",
        "You need to install Python, NumPy, Pandas, Matplotlib and Seaborn. For that, you can the instructions from\n",
        "[06-environment.md](https://github.com/alexeygrigorev/mlbookcamp-code/blob/master/course-zoomcamp/01-intro/06-environment.md)."
      ],
      "metadata": {
        "id": "xPjWqWuLFSa7"
      }
    },
    {
      "cell_type": "code",
      "source": [
        "import pandas as pd\n",
        "import numpy as np\n",
        "pd.__version__"
      ],
      "metadata": {
        "colab": {
          "base_uri": "https://localhost:8080/",
          "height": 35
        },
        "id": "yLKZJBosFTbo",
        "outputId": "69371c03-a797-43e1-d752-916116750c3b"
      },
      "execution_count": 35,
      "outputs": [
        {
          "output_type": "execute_result",
          "data": {
            "text/plain": [
              "'1.5.3'"
            ],
            "application/vnd.google.colaboratory.intrinsic+json": {
              "type": "string"
            }
          },
          "metadata": {},
          "execution_count": 35
        }
      ]
    },
    {
      "cell_type": "markdown",
      "source": [
        "### Getting the data\n",
        "\n",
        "For this homework, we'll use the California Housing Prices dataset. Download it from\n",
        "[here](https://raw.githubusercontent.com/alexeygrigorev/datasets/master/housing.csv).\n",
        "\n",
        "You can do it with wget:\n",
        "\n",
        "```bash\n",
        "wget https://raw.githubusercontent.com/alexeygrigorev/datasets/master/housing.csv\n",
        "```\n",
        "\n",
        "Or just open it with your browser and click \"Save as...\".\n",
        "\n",
        "Now read it with Pandas.\n",
        "\n",
        "### Question 2\n",
        "\n",
        "How many columns are in the dataset?\n",
        "\n",
        "- 10\n",
        "- 6560\n",
        "- 10989\n",
        "- 20640"
      ],
      "metadata": {
        "id": "OTY-kzhyF93a"
      }
    },
    {
      "cell_type": "code",
      "source": [
        "! curl -o /content/sample_data/housing.csv https://raw.githubusercontent.com/alexeygrigorev/datasets/master/housing.csv"
      ],
      "metadata": {
        "colab": {
          "base_uri": "https://localhost:8080/"
        },
        "id": "TZNf7l7EF-7G",
        "outputId": "7d5f3078-fe72-48ba-b95f-5e914e70b9b6"
      },
      "execution_count": 3,
      "outputs": [
        {
          "output_type": "stream",
          "name": "stdout",
          "text": [
            "  % Total    % Received % Xferd  Average Speed   Time    Time     Time  Current\n",
            "                                 Dload  Upload   Total   Spent    Left  Speed\n",
            "\r  0     0    0     0    0     0      0      0 --:--:-- --:--:-- --:--:--     0\r  1 1390k    1 15478    0     0   111k      0  0:00:12 --:--:--  0:00:12  111k\r100 1390k  100 1390k    0     0  8133k      0 --:--:-- --:--:-- --:--:-- 8129k\n"
          ]
        }
      ]
    },
    {
      "cell_type": "code",
      "source": [
        "df = pd.read_csv(\"/content/sample_data/housing.csv\")"
      ],
      "metadata": {
        "id": "vXVn-vnKGYJv"
      },
      "execution_count": 4,
      "outputs": []
    },
    {
      "cell_type": "code",
      "source": [
        "len(df.columns)"
      ],
      "metadata": {
        "colab": {
          "base_uri": "https://localhost:8080/"
        },
        "id": "yPHir1_dICYG",
        "outputId": "c35de5ae-64ec-4f7c-d4bc-b3494e8da3cf"
      },
      "execution_count": 5,
      "outputs": [
        {
          "output_type": "execute_result",
          "data": {
            "text/plain": [
              "10"
            ]
          },
          "metadata": {},
          "execution_count": 5
        }
      ]
    },
    {
      "cell_type": "markdown",
      "source": [
        "Question 3\n",
        "\n",
        "Which columns in the dataset have missing values?\n",
        "\n",
        "\n",
        "*  total_rooms\n",
        "*  total_bedrooms\n",
        "*  both of the above\n",
        "*  no empty columns in the dataset"
      ],
      "metadata": {
        "id": "YeB-MMjzIP3S"
      }
    },
    {
      "cell_type": "code",
      "source": [
        "nan_count = df.isna().sum()\n",
        "print(nan_count)"
      ],
      "metadata": {
        "colab": {
          "base_uri": "https://localhost:8080/"
        },
        "id": "cScluUOeI1Ax",
        "outputId": "8cdc5b1f-cb2a-41fd-b3b1-8d9e3e438779"
      },
      "execution_count": 6,
      "outputs": [
        {
          "output_type": "stream",
          "name": "stdout",
          "text": [
            "longitude               0\n",
            "latitude                0\n",
            "housing_median_age      0\n",
            "total_rooms             0\n",
            "total_bedrooms        207\n",
            "population              0\n",
            "households              0\n",
            "median_income           0\n",
            "median_house_value      0\n",
            "ocean_proximity         0\n",
            "dtype: int64\n"
          ]
        }
      ]
    },
    {
      "cell_type": "markdown",
      "source": [
        "### Question 4\n",
        "\n",
        "How many unique values does the `ocean_proximity` column have?\n",
        "\n",
        "- 3\n",
        "- 5\n",
        "- 7\n",
        "- 9"
      ],
      "metadata": {
        "id": "9hm89wEOKGme"
      }
    },
    {
      "cell_type": "code",
      "source": [
        "df.ocean_proximity.nunique()"
      ],
      "metadata": {
        "colab": {
          "base_uri": "https://localhost:8080/"
        },
        "id": "5KFUk8eSKHl9",
        "outputId": "1c075c86-5f93-46ed-a7a6-9534bfc75208"
      },
      "execution_count": 7,
      "outputs": [
        {
          "output_type": "execute_result",
          "data": {
            "text/plain": [
              "5"
            ]
          },
          "metadata": {},
          "execution_count": 7
        }
      ]
    },
    {
      "cell_type": "code",
      "source": [
        "df.ocean_proximity.unique()"
      ],
      "metadata": {
        "colab": {
          "base_uri": "https://localhost:8080/"
        },
        "id": "KXB6_gZnKNIq",
        "outputId": "2faba689-b058-4141-c260-d30b09fc35c2"
      },
      "execution_count": 8,
      "outputs": [
        {
          "output_type": "execute_result",
          "data": {
            "text/plain": [
              "array(['NEAR BAY', '<1H OCEAN', 'INLAND', 'NEAR OCEAN', 'ISLAND'],\n",
              "      dtype=object)"
            ]
          },
          "metadata": {},
          "execution_count": 8
        }
      ]
    },
    {
      "cell_type": "markdown",
      "source": [
        "### Question 5\n",
        "\n",
        "What's the average value of the `median_house_value` for the houses located near the bay?\n",
        "\n",
        "- 49433\n",
        "- 124805\n",
        "- 259212\n",
        "- 380440"
      ],
      "metadata": {
        "id": "cccY5d2RKaOt"
      }
    },
    {
      "cell_type": "code",
      "source": [
        "round(df[df.ocean_proximity=='NEAR BAY'].median_house_value.mean(),0)"
      ],
      "metadata": {
        "colab": {
          "base_uri": "https://localhost:8080/"
        },
        "id": "pSdaadJyKbFW",
        "outputId": "73beb8c4-d636-401a-ccf5-f1e1c8a19336"
      },
      "execution_count": 9,
      "outputs": [
        {
          "output_type": "execute_result",
          "data": {
            "text/plain": [
              "259212.0"
            ]
          },
          "metadata": {},
          "execution_count": 9
        }
      ]
    },
    {
      "cell_type": "markdown",
      "source": [
        "\n",
        "### Question 6\n",
        "\n",
        "1. Calculate the average of `total_bedrooms` column in the dataset.\n",
        "2. Use the `fillna` method to fill the missing values in `total_bedrooms` with the mean value from the previous step.\n",
        "3. Now, calculate the average of `total_bedrooms` again.\n",
        "4. Has it changed?\n",
        "\n",
        "Has it changed?\n",
        "\n",
        "> Hint: take into account only 3 digits after the decimal point.\n",
        "\n",
        "- Yes\n",
        "- No"
      ],
      "metadata": {
        "id": "9W0t57XNLD3f"
      }
    },
    {
      "cell_type": "code",
      "source": [
        "total_bedrooms_ave = round(df.total_bedrooms.mean(),3)"
      ],
      "metadata": {
        "id": "kQWHWSAWLFBu"
      },
      "execution_count": 10,
      "outputs": []
    },
    {
      "cell_type": "code",
      "source": [
        "total_bedrooms_ave"
      ],
      "metadata": {
        "colab": {
          "base_uri": "https://localhost:8080/"
        },
        "id": "--HSOBXZLbAz",
        "outputId": "d07871ac-a9bd-432e-e0ca-7af1cda3b2b5"
      },
      "execution_count": 11,
      "outputs": [
        {
          "output_type": "execute_result",
          "data": {
            "text/plain": [
              "537.871"
            ]
          },
          "metadata": {},
          "execution_count": 11
        }
      ]
    },
    {
      "cell_type": "code",
      "source": [
        "round(df['total_bedrooms'].fillna(value=total_bedrooms_ave).mean(),3)"
      ],
      "metadata": {
        "colab": {
          "base_uri": "https://localhost:8080/"
        },
        "id": "AgiPHGXFLc_e",
        "outputId": "3c9e8c5f-4413-4c4c-9d77-e89febd6af78"
      },
      "execution_count": 12,
      "outputs": [
        {
          "output_type": "execute_result",
          "data": {
            "text/plain": [
              "537.871"
            ]
          },
          "metadata": {},
          "execution_count": 12
        }
      ]
    },
    {
      "cell_type": "markdown",
      "source": [
        "### Question 7\n",
        "\n",
        "1. Select all the options located on islands.\n",
        "2. Select only columns `housing_median_age`, `total_rooms`, `total_bedrooms`.\n",
        "3. Get the underlying NumPy array. Let's call it `X`.\n",
        "4. Compute matrix-matrix multiplication between the transpose of `X` and `X`. To get the transpose, use `X.T`. Let's call the result `XTX`.\n",
        "5. Compute the inverse of `XTX`.\n",
        "6. Create an array `y` with values `[950, 1300, 800, 1000, 1300]`.\n",
        "7. Multiply the inverse of `XTX` with the transpose of `X`, and then multiply the result by `y`. Call the result `w`.\n",
        "8. What's the value of the last element of `w`?\n",
        "\n",
        "> **Note**: You just implemented linear regression. We'll talk about it in the next lesson.\n",
        "\n",
        "- -1.4812\n",
        "- 0.001\n",
        "- 5.6992\n",
        "- 23.1233"
      ],
      "metadata": {
        "id": "RzlNn5lKL4dg"
      }
    },
    {
      "cell_type": "code",
      "source": [
        "X=df[df.ocean_proximity==\"ISLAND\"][['housing_median_age', 'total_rooms', 'total_bedrooms']].to_numpy()\n",
        "y = np.array([950, 1300, 800, 1000, 1300])\n",
        "np.dot(np.dot(np.linalg.inv(np.dot(X.T, X)), X.T), y)[-1]\n"
      ],
      "metadata": {
        "colab": {
          "base_uri": "https://localhost:8080/"
        },
        "id": "FSAk5f-EMj9V",
        "outputId": "186efdce-091b-4298-a996-ff2844d80284"
      },
      "execution_count": 39,
      "outputs": [
        {
          "output_type": "execute_result",
          "data": {
            "text/plain": [
              "5.699229455065586"
            ]
          },
          "metadata": {},
          "execution_count": 39
        }
      ]
    }
  ]
}